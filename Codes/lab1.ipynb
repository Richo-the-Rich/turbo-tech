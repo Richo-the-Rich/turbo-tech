{
 "cells": [
  {
   "cell_type": "markdown",
   "metadata": {},
   "source": [
    "Lab1: X bar and R control chart for layer thickness measurements (in Angstroms) on 20 subgroups of four substrates."
   ]
  },
  {
   "cell_type": "code",
   "execution_count": 5,
   "metadata": {},
   "outputs": [],
   "source": [
    "# Import neccessary libraries\n",
    "import pandas as pd\n",
    "import numpy as np\n",
    "import matplotlib.pyplot as plt\n",
    "import seaborn as sns\n",
    "%matplotlib inline"
   ]
  },
  {
   "cell_type": "code",
   "execution_count": 58,
   "metadata": {},
   "outputs": [
    {
     "data": {
      "text/html": [
       "<div>\n",
       "<style scoped>\n",
       "    .dataframe tbody tr th:only-of-type {\n",
       "        vertical-align: middle;\n",
       "    }\n",
       "\n",
       "    .dataframe tbody tr th {\n",
       "        vertical-align: top;\n",
       "    }\n",
       "\n",
       "    .dataframe thead th {\n",
       "        text-align: right;\n",
       "    }\n",
       "</style>\n",
       "<table border=\"1\" class=\"dataframe\">\n",
       "  <thead>\n",
       "    <tr style=\"text-align: right;\">\n",
       "      <th></th>\n",
       "      <th>Subgroup</th>\n",
       "      <th>x1</th>\n",
       "      <th>x2</th>\n",
       "      <th>x3</th>\n",
       "      <th>x4</th>\n",
       "    </tr>\n",
       "  </thead>\n",
       "  <tbody>\n",
       "    <tr>\n",
       "      <th>0</th>\n",
       "      <td>1</td>\n",
       "      <td>459</td>\n",
       "      <td>449</td>\n",
       "      <td>435</td>\n",
       "      <td>450</td>\n",
       "    </tr>\n",
       "    <tr>\n",
       "      <th>1</th>\n",
       "      <td>2</td>\n",
       "      <td>443</td>\n",
       "      <td>440</td>\n",
       "      <td>442</td>\n",
       "      <td>442</td>\n",
       "    </tr>\n",
       "    <tr>\n",
       "      <th>2</th>\n",
       "      <td>3</td>\n",
       "      <td>457</td>\n",
       "      <td>444</td>\n",
       "      <td>449</td>\n",
       "      <td>444</td>\n",
       "    </tr>\n",
       "    <tr>\n",
       "      <th>3</th>\n",
       "      <td>4</td>\n",
       "      <td>469</td>\n",
       "      <td>463</td>\n",
       "      <td>453</td>\n",
       "      <td>438</td>\n",
       "    </tr>\n",
       "    <tr>\n",
       "      <th>4</th>\n",
       "      <td>5</td>\n",
       "      <td>443</td>\n",
       "      <td>457</td>\n",
       "      <td>445</td>\n",
       "      <td>454</td>\n",
       "    </tr>\n",
       "  </tbody>\n",
       "</table>\n",
       "</div>"
      ],
      "text/plain": [
       "  Subgroup    x1       x2      x3    x4 \n",
       "0       1    459     449     435    450 \n",
       "1        2    443    440     442    442 \n",
       "2       3    457      444    449    444 \n",
       "3       4    469     463     453    438 \n",
       "4        5    443     457    445    454 "
      ]
     },
     "execution_count": 58,
     "metadata": {},
     "output_type": "execute_result"
    }
   ],
   "source": [
    "# Loading the dataset\n",
    "data = pd.read_excel('D:\\VIT-AP\\Second Semester\\Statistical Control\\Layer_Thickness_Data.xlsx')\n",
    "data.head()"
   ]
  },
  {
   "cell_type": "code",
   "execution_count": 59,
   "metadata": {},
   "outputs": [
    {
     "data": {
      "text/plain": [
       "Index(['Subgroup ', ' x1  ', 'x2 ', ' x3 ', ' x4 '], dtype='object')"
      ]
     },
     "execution_count": 59,
     "metadata": {},
     "output_type": "execute_result"
    }
   ],
   "source": [
    "# Cleanning the data\n",
    "data.columns"
   ]
  },
  {
   "cell_type": "markdown",
   "metadata": {},
   "source": [
    "We remark that our column name is containing white spaces"
   ]
  },
  {
   "cell_type": "code",
   "execution_count": 60,
   "metadata": {},
   "outputs": [
    {
     "name": "stdout",
     "output_type": "stream",
     "text": [
      "['Subgroup', 'x1', 'x2', 'x3', 'x4']\n"
     ]
    }
   ],
   "source": [
    "List = []\n",
    "for i in data.columns:\n",
    "    List.append(i.strip())\n",
    "print(List)"
   ]
  },
  {
   "cell_type": "code",
   "execution_count": 61,
   "metadata": {},
   "outputs": [
    {
     "data": {
      "text/plain": [
       "Index(['Subgroup', 'x1', 'x2', 'x3', 'x4'], dtype='object')"
      ]
     },
     "execution_count": 61,
     "metadata": {},
     "output_type": "execute_result"
    }
   ],
   "source": [
    "# Update the columns name\n",
    "data.columns = List\n",
    "data.columns"
   ]
  },
  {
   "cell_type": "code",
   "execution_count": 62,
   "metadata": {},
   "outputs": [],
   "source": [
    "# All the data input are in string, change into int\n",
    "data = data.astype(int)"
   ]
  },
  {
   "cell_type": "code",
   "execution_count": 70,
   "metadata": {},
   "outputs": [
    {
     "data": {
      "text/plain": [
       "Subgroup      1\n",
       "x1          459\n",
       "x2          449\n",
       "x3          435\n",
       "x4          450\n",
       "Name: 0, dtype: int32"
      ]
     },
     "execution_count": 70,
     "metadata": {},
     "output_type": "execute_result"
    }
   ],
   "source": [
    "data.iloc[i, 1:5]"
   ]
  },
  {
   "cell_type": "code",
   "execution_count": 71,
   "metadata": {},
   "outputs": [],
   "source": [
    "# Calculate X bar, Range and concatanate to the dataset\n",
    "data['x_bar'] = pd.DataFrame([data.iloc[i, 1:5].mean() for i in range(0, 20)])\n",
    "data['range_r'] = pd.DataFrame([(data.iloc[i, 1:5].max()- data.iloc[i, 1:5].min()) for i in range(0, 20)])"
   ]
  },
  {
   "cell_type": "code",
   "execution_count": 72,
   "metadata": {},
   "outputs": [
    {
     "data": {
      "text/html": [
       "<div>\n",
       "<style scoped>\n",
       "    .dataframe tbody tr th:only-of-type {\n",
       "        vertical-align: middle;\n",
       "    }\n",
       "\n",
       "    .dataframe tbody tr th {\n",
       "        vertical-align: top;\n",
       "    }\n",
       "\n",
       "    .dataframe thead th {\n",
       "        text-align: right;\n",
       "    }\n",
       "</style>\n",
       "<table border=\"1\" class=\"dataframe\">\n",
       "  <thead>\n",
       "    <tr style=\"text-align: right;\">\n",
       "      <th></th>\n",
       "      <th>Subgroup</th>\n",
       "      <th>x1</th>\n",
       "      <th>x2</th>\n",
       "      <th>x3</th>\n",
       "      <th>x4</th>\n",
       "      <th>x_bar</th>\n",
       "      <th>range_r</th>\n",
       "    </tr>\n",
       "  </thead>\n",
       "  <tbody>\n",
       "    <tr>\n",
       "      <th>0</th>\n",
       "      <td>1</td>\n",
       "      <td>459</td>\n",
       "      <td>449</td>\n",
       "      <td>435</td>\n",
       "      <td>450</td>\n",
       "      <td>448.25</td>\n",
       "      <td>24.0</td>\n",
       "    </tr>\n",
       "    <tr>\n",
       "      <th>1</th>\n",
       "      <td>2</td>\n",
       "      <td>443</td>\n",
       "      <td>440</td>\n",
       "      <td>442</td>\n",
       "      <td>442</td>\n",
       "      <td>441.75</td>\n",
       "      <td>3.0</td>\n",
       "    </tr>\n",
       "    <tr>\n",
       "      <th>2</th>\n",
       "      <td>3</td>\n",
       "      <td>457</td>\n",
       "      <td>444</td>\n",
       "      <td>449</td>\n",
       "      <td>444</td>\n",
       "      <td>448.50</td>\n",
       "      <td>13.0</td>\n",
       "    </tr>\n",
       "    <tr>\n",
       "      <th>3</th>\n",
       "      <td>4</td>\n",
       "      <td>469</td>\n",
       "      <td>463</td>\n",
       "      <td>453</td>\n",
       "      <td>438</td>\n",
       "      <td>455.75</td>\n",
       "      <td>31.0</td>\n",
       "    </tr>\n",
       "    <tr>\n",
       "      <th>4</th>\n",
       "      <td>5</td>\n",
       "      <td>443</td>\n",
       "      <td>457</td>\n",
       "      <td>445</td>\n",
       "      <td>454</td>\n",
       "      <td>449.75</td>\n",
       "      <td>14.0</td>\n",
       "    </tr>\n",
       "  </tbody>\n",
       "</table>\n",
       "</div>"
      ],
      "text/plain": [
       "   Subgroup   x1   x2   x3   x4   x_bar  range_r\n",
       "0         1  459  449  435  450  448.25     24.0\n",
       "1         2  443  440  442  442  441.75      3.0\n",
       "2         3  457  444  449  444  448.50     13.0\n",
       "3         4  469  463  453  438  455.75     31.0\n",
       "4         5  443  457  445  454  449.75     14.0"
      ]
     },
     "execution_count": 72,
     "metadata": {},
     "output_type": "execute_result"
    }
   ],
   "source": [
    "data.head()"
   ]
  },
  {
   "cell_type": "markdown",
   "metadata": {},
   "source": [
    "### R bar chart"
   ]
  },
  {
   "cell_type": "code",
   "execution_count": 77,
   "metadata": {},
   "outputs": [
    {
     "data": {
      "text/plain": [
       "<matplotlib.lines.Line2D at 0x1efe1946880>"
      ]
     },
     "execution_count": 77,
     "metadata": {},
     "output_type": "execute_result"
    },
    {
     "data": {
      "image/png": "[encoded data removed]",
      "text/plain": [
       "<Figure size 864x504 with 1 Axes>"
      ]
     },
     "metadata": {
      "needs_background": "light"
     },
     "output_type": "display_data"
    }
   ],
   "source": [
    "# Calculate the Central line, Upper control and lower Control limits\n",
    "r_bar = data.range_r.mean()\n",
    "\n",
    "d3 = 0 # Standard Factor for LCL for R-chart\n",
    "d4 = 2.282 # Standard Factor for UCL for R-chart\n",
    "# r-bar chart upper control limit and lower control limits\n",
    "UCLr = d4 * r_bar\n",
    "LCLr = d3 * r_bar\n",
    "\n",
    "# Plotting the result\n",
    "plt.figure(figsize=(12, 7))\n",
    "plt.title('R bar chart')\n",
    "plt.xticks(ticks=list(range(0,40)))\n",
    "plt.plot(range(len(data.range_r)), data.range_r ,'go-')\n",
    "plt.axhline(y=UCLr, color='r', linestyle='-')\n",
    "plt.axhline(y=LCLr, color='r', linestyle='-')\n",
    "plt.axhline(y=r_bar, color='y', linestyle='-')\n"
   ]
  },
  {
   "cell_type": "markdown",
   "metadata": {},
   "source": [
    "Conclusion : The process is in control for the R bar chart"
   ]
  },
  {
   "cell_type": "code",
   "execution_count": 80,
   "metadata": {},
   "outputs": [
    {
     "data": {
      "image/png": "[encoded data removed]",
      "text/plain": [
       "<Figure size 864x504 with 1 Axes>"
      ]
     },
     "metadata": {
      "needs_background": "light"
     },
     "output_type": "display_data"
    }
   ],
   "source": [
    "# x-bar chart upper control limit and lower control limits\n",
    "x_bar_bar = data.x_bar.mean()\n",
    "a2 = 0.729 # Standard Factor for LCL and UCL for X-chart\n",
    "\n",
    "UCLx = x_bar_bar + a2 * r_bar\n",
    "LCLx = x_bar_bar - a2 * r_bar\n",
    "\n",
    "# Plotting the result\n",
    "plt.figure(figsize=(12, 7))\n",
    "plt.title('X bar chart')\n",
    "plt.plot(range(len(data.x_bar)), data.x_bar ,'bo-' )\n",
    "plt.axhline(y=UCLx, color='r', linestyle='-')\n",
    "plt.axhline(y=LCLx, color='r', linestyle='-')\n",
    "plt.axhline(y=x_bar_bar, color='y', linestyle='-')\n",
    "plt.grid()"
   ]
  },
  {
   "cell_type": "markdown",
   "metadata": {},
   "source": [
    "Conclusion : The process is out of control let's move to Phase two analysis"
   ]
  },
  {
   "cell_type": "markdown",
   "metadata": {},
   "source": [
    "### Phase II Analysis for X bar chart"
   ]
  },
  {
   "cell_type": "code",
   "execution_count": 89,
   "metadata": {},
   "outputs": [],
   "source": [
    "# Find the point that is out of control and drop it\n",
    "out = data[data['x_bar'] < LCLx]\n",
    "out\n",
    "data.drop(index=17, inplace=True)"
   ]
  },
  {
   "cell_type": "code",
   "execution_count": 92,
   "metadata": {},
   "outputs": [
    {
     "data": {
      "image/png": "[encoded data removed]",
      "text/plain": [
       "<Figure size 864x504 with 1 Axes>"
      ]
     },
     "metadata": {
      "needs_background": "light"
     },
     "output_type": "display_data"
    }
   ],
   "source": [
    "# New column of the xbar is \n",
    "data['x_bar'] = pd.DataFrame([data.iloc[i, 1:5].mean() for i in range(0, 19)])\n",
    "# x-bar chart upper control limit and lower control limits\n",
    "x_bar_bar = data.x_bar.mean()\n",
    "a2 = 0.729 # Standard Factor for LCL and UCL for X-chart\n",
    "\n",
    "UCLx = x_bar_bar + a2 * r_bar\n",
    "LCLx = x_bar_bar - a2 * r_bar\n",
    "\n",
    "# Plotting the result\n",
    "plt.figure(figsize=(12, 7))\n",
    "plt.title('X bar chart')\n",
    "plt.plot(range(len(data.x_bar)), data.x_bar ,'bo-' )\n",
    "plt.axhline(y=UCLx, color='r', linestyle='-')\n",
    "plt.axhline(y=LCLx, color='r', linestyle='-')\n",
    "plt.axhline(y=x_bar_bar, color='y', linestyle='-')\n",
    "plt.grid()"
   ]
  },
  {
   "cell_type": "markdown",
   "metadata": {},
   "source": [
    "Conclusion : The process is in control now"
   ]
  },
  {
   "cell_type": "markdown",
   "metadata": {},
   "source": [
    "## Estimate the mean and the standard deviation of the process"
   ]
  },
  {
   "cell_type": "code",
   "execution_count": 239,
   "metadata": {},
   "outputs": [
    {
     "name": "stdout",
     "output_type": "stream",
     "text": [
      "The Estimated mean is 449.59722222222223\n",
      "The Estimated standard deviation is 8.05654044695112\n"
     ]
    }
   ],
   "source": [
    "import math\n",
    "mean_estimated = x_bar_bar\n",
    "row = data.index.size\n",
    "calc_std = lambda col, mean: sum([(col[i] - mean)**2 for i in col.index]) \n",
    "std_estimated = lambda *a: math.sqrt(sum(a)/(len(a)*row))\n",
    "\n",
    "sum_x1 = calc_std(data['x1'], mean_estimated)\n",
    "sum_x2 = calc_std(data['x2'], mean_estimated)\n",
    "sum_x3 = calc_std(data['x3'], mean_estimated)\n",
    "sum_x4 = calc_std(data['x4'], mean_estimated)\n",
    "\n",
    "std_estimated = std_estimated(sum_x1, sum_x2, sum_x3, sum_x4)\n",
    "print('The Estimated mean is', mean_estimated)\n",
    "print('The Estimated standard deviation is', std_estimated)"
   ]
  },
  {
   "cell_type": "markdown",
   "metadata": {},
   "source": [
    "#### Initial mean and standard deviation of the sample"
   ]
  },
  {
   "cell_type": "code",
   "execution_count": 238,
   "metadata": {},
   "outputs": [
    {
     "name": "stdout",
     "output_type": "stream",
     "text": [
      "The Initial mean is 449.6842105263158\n",
      "The Initial standard deviation is 8.056070816987042\n"
     ]
    }
   ],
   "source": [
    "# Concatanate all the data input into single array\n",
    "sample = np.concatenate((data['x1'].values, data['x2'].values , data['x3'].values , data['x4'].values))\n",
    "print('The Initial mean is', sample.mean())\n",
    "print('The Initial standard deviation is', sample.std())\n"
   ]
  },
  {
   "cell_type": "markdown",
   "metadata": {},
   "source": [
    "#### Conclusion on the inital mean, standard deviation with the extimated mean and standard deviation"
   ]
  },
  {
   "cell_type": "code",
   "execution_count": 237,
   "metadata": {},
   "outputs": [
    {
     "name": "stdout",
     "output_type": "stream",
     "text": [
      "The percentage error for the mean is: 0.019 %\n",
      "The percentage erro for the standard deviation is: 0.006 %\n"
     ]
    }
   ],
   "source": [
    "Percentage_Error_Mean = abs(((mean_estimated - sample.mean())/ sample.mean()))* 100\n",
    "\n",
    "Percentage_Error_Std = abs(((std_estimated - sample.std())/ sample.std())) * 100\n",
    "\n",
    "print(\"The percentage error for the mean is:\", np.around(Percentage_Error_Mean, decimals = 3) ,'%')\n",
    "print('The percentage error for the standard deviation is:', np.around(Percentage_Error_Std, decimals = 3),'%')"
   ]
  },
  {
   "cell_type": "markdown",
   "metadata": {},
   "source": [
    "Conclusion : Accurate control chart"
   ]
  }
 ],
 "metadata": {
  "interpreter": {
   "hash": "0b042f968f34bff504686585d3cbbfddd69e950edceb51bac44839f5051be0b9"
  },
  "kernelspec": {
   "display_name": "Python 3.8.8 64-bit ('base': conda)",
   "language": "python",
   "name": "python3"
  },
  "language_info": {
   "codemirror_mode": {
    "name": "ipython",
    "version": 3
   },
   "file_extension": ".py",
   "mimetype": "text/x-python",
   "name": "python",
   "nbconvert_exporter": "python",
   "pygments_lexer": "ipython3",
   "version": "3.8.8"
  },
  "orig_nbformat": 4
 },
 "nbformat": 4,
 "nbformat_minor": 2
}
